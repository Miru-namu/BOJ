{
 "cells": [
  {
   "cell_type": "code",
   "execution_count": null,
   "metadata": {},
   "outputs": [],
   "source": [
    "# 4\n",
    "# RDD\n",
    "# 4\n",
    "# [1,2,3,4]\n",
    "# DD\n",
    "# 1\n",
    "# [42]\n",
    "# RRD\n",
    "# 6\n",
    "# [1,1,2,3,5,8]\n",
    "# D\n",
    "# 0\n",
    "# []\n",
    "# 예제 출력 1 \n",
    "# [2,1]\n",
    "# error\n",
    "# [1,2,3,5,8]\n",
    "# error\n",
    "\n",
    "import sys\n",
    "from collections import deque\n",
    "\n",
    "n = int(input())\n",
    "for _ in range(n):\n",
    "    queue = deque()\n",
    "    i = input()\n",
    "    j = int(input())\n",
    "    k = input()\n",
    "    queue.append(k)\n",
    "    queue.popleft()\n",
    "    queue.popleft\n",
    "    for num in k:\n",
    "        print(num)"
   ]
  }
 ],
 "metadata": {
  "language_info": {
   "name": "python"
  },
  "orig_nbformat": 4
 },
 "nbformat": 4,
 "nbformat_minor": 2
}
